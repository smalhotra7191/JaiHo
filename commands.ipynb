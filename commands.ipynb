{
 "cells": [
  {
   "cell_type": "code",
   "execution_count": 2,
   "id": "6891e9fa",
   "metadata": {},
   "outputs": [],
   "source": [
    "!python3 -m venv jaiho_venv.venv"
   ]
  },
  {
   "cell_type": "code",
   "execution_count": null,
   "id": "c2942d1c",
   "metadata": {},
   "outputs": [],
   "source": [
    "jaiho_venv.venv\\Scripts\\Activate.ps1"
   ]
  },
  {
   "cell_type": "code",
   "execution_count": null,
   "id": "325ca809",
   "metadata": {},
   "outputs": [],
   "source": [
    "python app.py"
   ]
  },
  {
   "cell_type": "code",
   "execution_count": null,
   "id": "a764fdf6",
   "metadata": {},
   "outputs": [],
   "source": []
  }
 ],
 "metadata": {
  "kernelspec": {
   "display_name": "jaiho_venv.venv",
   "language": "python",
   "name": "python3"
  },
  "language_info": {
   "codemirror_mode": {
    "name": "ipython",
    "version": 3
   },
   "file_extension": ".py",
   "mimetype": "text/x-python",
   "name": "python",
   "nbconvert_exporter": "python",
   "pygments_lexer": "ipython3",
   "version": "3.13.5"
  }
 },
 "nbformat": 4,
 "nbformat_minor": 5
}
